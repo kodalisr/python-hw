{
 "cells": [
  {
   "cell_type": "code",
   "execution_count": 8,
   "metadata": {},
   "outputs": [],
   "source": [
    "import os\n",
    "import csv"
   ]
  },
  {
   "cell_type": "code",
   "execution_count": 9,
   "metadata": {},
   "outputs": [],
   "source": [
    "# Path to collect data from the Resources folder\n",
    "wrestling_csv = os.path.join('..', 'Resources', 'WWE-Data-2016.csv')"
   ]
  },
  {
   "cell_type": "code",
   "execution_count": 10,
   "metadata": {},
   "outputs": [],
   "source": [
    "# Define the function and have it accept the 'wrestlerData' as its sole parameter\n",
    "def print_percentages(wrestler_data):\n",
    "    name = str(wrestler_data[0])\n",
    "    wins = int(wrestler_data[1])\n",
    "    losses = int(wrestler_data[2])\n",
    "    draws = int(wrestler_data[3])\n",
    "    \n",
    "# Find the total number of matches wrestled\n",
    "    total_matches = wins + losses + draws\n",
    "\n",
    "# Find the percentage of matches won\n",
    "    win_percent = (wins / total_matches) * 100\n",
    "\n",
    "# Find the percentage of matches lost\n",
    "    loss_percent = (losses / total_matches) * 100\n",
    "\n",
    "# Find the percentage of matches drawn\n",
    "    draw_percent = (draws / total_matches) * 100\n",
    "\n",
    "#bonus\n",
    "    if loss_percent > 50:\n",
    "        type_of_wrestler = \"Jobber\"\n",
    "    else:\n",
    "        type_of_wrestler = \"Superstar\"\n",
    "\n",
    "\n",
    "# Print out the wrestler's name and their percentage stats\n",
    "    print(f\"Stats for {name}\")\n",
    "    print(f\"WIN PERCENT: {win_percent}\")\n",
    "    print(f\"LOSS PERCENT: {loss_percent}\")\n",
    "    print(f\"DRAW PERCENT: {draw_percent}\")\n",
    "    print(f\"{name} is a {type_of_wrestler}\")"
   ]
  },
  {
   "cell_type": "code",
   "execution_count": 11,
   "metadata": {},
   "outputs": [
    {
     "name": "stdout",
     "output_type": "stream",
     "text": [
      "What wrestler do you want to look for? Dean Ambrose\n",
      "Stats for Dean Ambrose\n",
      "WIN PERCENT: 65.19607843137256\n",
      "LOSS PERCENT: 32.84313725490196\n",
      "DRAW PERCENT: 1.9607843137254901\n",
      "Dean Ambrose is a Superstar\n"
     ]
    }
   ],
   "source": [
    "# Read in the CSV file\n",
    "with open(wrestling_csv, 'r') as csvfile:\n",
    "\n",
    "    # Split the data on commas\n",
    "    csvreader = csv.reader(csvfile, delimiter=',')\n",
    "\n",
    "    # Prompt the user for what wrestler they would like to search for\n",
    "    name_to_check = input(\"What wrestler do you want to look for? \")\n",
    "\n",
    "    # Loop through the data\n",
    "    for row in csvreader:\n",
    "\n",
    "        # If the wrestler's name in a row is equal to that which the user input, run the 'print_percentages()' function\n",
    "        if(name_to_check == row[0]):\n",
    "            print_percentages(row)"
   ]
  },
  {
   "cell_type": "code",
   "execution_count": null,
   "metadata": {},
   "outputs": [],
   "source": []
  }
 ],
 "metadata": {
  "kernelspec": {
   "display_name": "Python 3",
   "language": "python",
   "name": "python3"
  },
  "language_info": {
   "codemirror_mode": {
    "name": "ipython",
    "version": 3
   },
   "file_extension": ".py",
   "mimetype": "text/x-python",
   "name": "python",
   "nbconvert_exporter": "python",
   "pygments_lexer": "ipython3",
   "version": "3.8.3"
  }
 },
 "nbformat": 4,
 "nbformat_minor": 2
}
